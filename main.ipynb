{
 "cells": [
  {
   "cell_type": "markdown",
   "metadata": {},
   "source": [
    "## Imports:"
   ]
  },
  {
   "cell_type": "code",
   "execution_count": 1,
   "metadata": {},
   "outputs": [
    {
     "name": "stdout",
     "output_type": "stream",
     "text": [
      "\n",
      "    _|    _|  _|    _|    _|_|_|    _|_|_|  _|_|_|  _|      _|    _|_|_|      _|_|_|_|    _|_|      _|_|_|  _|_|_|_|\n",
      "    _|    _|  _|    _|  _|        _|          _|    _|_|    _|  _|            _|        _|    _|  _|        _|\n",
      "    _|_|_|_|  _|    _|  _|  _|_|  _|  _|_|    _|    _|  _|  _|  _|  _|_|      _|_|_|    _|_|_|_|  _|        _|_|_|\n",
      "    _|    _|  _|    _|  _|    _|  _|    _|    _|    _|    _|_|  _|    _|      _|        _|    _|  _|        _|\n",
      "    _|    _|    _|_|      _|_|_|    _|_|_|  _|_|_|  _|      _|    _|_|_|      _|        _|    _|    _|_|_|  _|_|_|_|\n",
      "\n",
      "    A token is already saved on your machine. Run `huggingface-cli whoami` to get more information or `huggingface-cli logout` if you want to log out.\n",
      "    Setting a new token will erase the existing one.\n",
      "    To login, `huggingface_hub` requires a token generated from https://huggingface.co/settings/tokens .\n",
      "Token can be pasted using 'Right-Click'.\n"
     ]
    },
    {
     "name": "stdout",
     "output_type": "stream",
     "text": [
      "Token is valid (permission: write).\n",
      "\u001b[1m\u001b[31mCannot authenticate through git-credential as no helper is defined on your machine.\n",
      "You might have to re-authenticate when pushing to the Hugging Face Hub.\n",
      "Run the following command in your terminal in case you want to set the 'store' credential helper as default.\n",
      "\n",
      "git config --global credential.helper store\n",
      "\n",
      "Read https://git-scm.com/book/en/v2/Git-Tools-Credential-Storage for more details.\u001b[0m\n",
      "Token has not been saved to git credential helper.\n",
      "Your token has been saved to C:\\Users\\mehas\\.cache\\huggingface\\token\n",
      "Login successful\n"
     ]
    }
   ],
   "source": [
    "from huggingface_hub import interpreter_login\n",
    "interpreter_login()"
   ]
  },
  {
   "cell_type": "code",
   "execution_count": 2,
   "metadata": {},
   "outputs": [
    {
     "name": "stdout",
     "output_type": "stream",
     "text": [
      "WARNING:tensorflow:From c:\\Users\\mehas\\anaconda\\envs\\tansformers_cpu\\lib\\site-packages\\keras\\src\\losses.py:2976: The name tf.losses.sparse_softmax_cross_entropy is deprecated. Please use tf.compat.v1.losses.sparse_softmax_cross_entropy instead.\n",
      "\n"
     ]
    }
   ],
   "source": [
    "import tensorflow as tf\n",
    "import pandas as pd \n",
    "import numpy as np\n",
    "import matplotlib.pyplot as plt\n",
    "import seaborn as sns\n",
    "from sklearn.metrics import classification_report\n",
    "from tensorflow import keras\n",
    "from tensorflow.keras.preprocessing.text import Tokenizer\n",
    "from tensorflow.keras.preprocessing.sequence import pad_sequences\n",
    "from tensorflow import keras\n",
    "from tensorflow.keras import layers , regularizers\n",
    "from tensorflow.keras.callbacks import EarlyStopping\n",
    "from transformers import DataCollatorWithPadding , PushToHubCallback"
   ]
  },
  {
   "cell_type": "code",
   "execution_count": 3,
   "metadata": {},
   "outputs": [],
   "source": [
    "from transformers import AutoTokenizer, TFAutoModelForSequenceClassification"
   ]
  },
  {
   "cell_type": "code",
   "execution_count": 4,
   "metadata": {},
   "outputs": [],
   "source": [
    "from sklearn.model_selection import train_test_split\n",
    "from sklearn.preprocessing import LabelEncoder\n",
    "from tensorflow.keras.utils import to_categorical"
   ]
  },
  {
   "cell_type": "code",
   "execution_count": 5,
   "metadata": {},
   "outputs": [
    {
     "name": "stderr",
     "output_type": "stream",
     "text": [
      "[nltk_data] Downloading package punkt to\n",
      "[nltk_data]     C:\\Users\\mehas\\AppData\\Roaming\\nltk_data...\n",
      "[nltk_data]   Package punkt is already up-to-date!\n"
     ]
    }
   ],
   "source": [
    "import nltk\n",
    "from nltk.tokenize import word_tokenize\n",
    "nltk.download('punkt')\n",
    "from collections import Counter"
   ]
  },
  {
   "cell_type": "code",
   "execution_count": 6,
   "metadata": {},
   "outputs": [],
   "source": [
    "import warnings\n",
    "warnings.filterwarnings(\"ignore\")"
   ]
  },
  {
   "cell_type": "markdown",
   "metadata": {},
   "source": [
    "## Importing Data:"
   ]
  },
  {
   "cell_type": "code",
   "execution_count": 7,
   "metadata": {},
   "outputs": [],
   "source": [
    "data = pd.read_csv('all-data.csv',encoding='unicode_escape',names=['sentiment', 'text'])"
   ]
  },
  {
   "cell_type": "markdown",
   "metadata": {},
   "source": [
    "## Exploratory Data Analysis (EDA):"
   ]
  },
  {
   "cell_type": "code",
   "execution_count": 8,
   "metadata": {},
   "outputs": [
    {
     "data": {
      "text/html": [
       "<div>\n",
       "<style scoped>\n",
       "    .dataframe tbody tr th:only-of-type {\n",
       "        vertical-align: middle;\n",
       "    }\n",
       "\n",
       "    .dataframe tbody tr th {\n",
       "        vertical-align: top;\n",
       "    }\n",
       "\n",
       "    .dataframe thead th {\n",
       "        text-align: right;\n",
       "    }\n",
       "</style>\n",
       "<table border=\"1\" class=\"dataframe\">\n",
       "  <thead>\n",
       "    <tr style=\"text-align: right;\">\n",
       "      <th></th>\n",
       "      <th>sentiment</th>\n",
       "      <th>text</th>\n",
       "    </tr>\n",
       "  </thead>\n",
       "  <tbody>\n",
       "    <tr>\n",
       "      <th>0</th>\n",
       "      <td>neutral</td>\n",
       "      <td>According to Gran , the company has no plans t...</td>\n",
       "    </tr>\n",
       "    <tr>\n",
       "      <th>1</th>\n",
       "      <td>neutral</td>\n",
       "      <td>Technopolis plans to develop in stages an area...</td>\n",
       "    </tr>\n",
       "    <tr>\n",
       "      <th>2</th>\n",
       "      <td>negative</td>\n",
       "      <td>The international electronic industry company ...</td>\n",
       "    </tr>\n",
       "    <tr>\n",
       "      <th>3</th>\n",
       "      <td>positive</td>\n",
       "      <td>With the new production plant the company woul...</td>\n",
       "    </tr>\n",
       "    <tr>\n",
       "      <th>4</th>\n",
       "      <td>positive</td>\n",
       "      <td>According to the company 's updated strategy f...</td>\n",
       "    </tr>\n",
       "  </tbody>\n",
       "</table>\n",
       "</div>"
      ],
      "text/plain": [
       "  sentiment                                               text\n",
       "0   neutral  According to Gran , the company has no plans t...\n",
       "1   neutral  Technopolis plans to develop in stages an area...\n",
       "2  negative  The international electronic industry company ...\n",
       "3  positive  With the new production plant the company woul...\n",
       "4  positive  According to the company 's updated strategy f..."
      ]
     },
     "execution_count": 8,
     "metadata": {},
     "output_type": "execute_result"
    }
   ],
   "source": [
    "data.head()"
   ]
  },
  {
   "cell_type": "code",
   "execution_count": 9,
   "metadata": {},
   "outputs": [
    {
     "name": "stdout",
     "output_type": "stream",
     "text": [
      "<class 'pandas.core.frame.DataFrame'>\n",
      "RangeIndex: 4846 entries, 0 to 4845\n",
      "Data columns (total 2 columns):\n",
      " #   Column     Non-Null Count  Dtype \n",
      "---  ------     --------------  ----- \n",
      " 0   sentiment  4846 non-null   object\n",
      " 1   text       4846 non-null   object\n",
      "dtypes: object(2)\n",
      "memory usage: 75.8+ KB\n"
     ]
    }
   ],
   "source": [
    "data.info()"
   ]
  },
  {
   "cell_type": "code",
   "execution_count": 10,
   "metadata": {},
   "outputs": [],
   "source": [
    "data_dist = data['sentiment'].value_counts()"
   ]
  },
  {
   "cell_type": "code",
   "execution_count": 11,
   "metadata": {},
   "outputs": [
    {
     "data": {
      "image/png": "[encoded data removed]",
      "text/plain": [
       "<Figure size 640x480 with 1 Axes>"
      ]
     },
     "metadata": {},
     "output_type": "display_data"
    }
   ],
   "source": [
    "data_dist.plot(kind='bar',color=['red','green','blue'])\n",
    "plt.xlabel('Sentiment')\n",
    "plt.ylabel('Count')\n",
    "plt.title('Distribution of Sentiments')\n",
    "plt.show()"
   ]
  },
  {
   "cell_type": "code",
   "execution_count": 12,
   "metadata": {},
   "outputs": [],
   "source": [
    "X,y = list(data['text']),data['sentiment']"
   ]
  },
  {
   "cell_type": "code",
   "execution_count": 13,
   "metadata": {},
   "outputs": [],
   "source": [
    "data['tokenized_sent'] = data['text'].apply(word_tokenize)\n",
    "data['num_words'] = data['tokenized_sent'].apply(len)"
   ]
  },
  {
   "cell_type": "code",
   "execution_count": 14,
   "metadata": {},
   "outputs": [
    {
     "data": {
      "image/png": "[encoded data removed]",
      "text/plain": [
       "<Figure size 640x480 with 1 Axes>"
      ]
     },
     "metadata": {},
     "output_type": "display_data"
    }
   ],
   "source": [
    "sns.histplot(x='num_words',data=data,bins=20,kde=True)\n",
    "plt.xlabel('Number of words')\n",
    "plt.ylabel('Number of Rows')\n",
    "plt.show()"
   ]
  },
  {
   "cell_type": "code",
   "execution_count": 15,
   "metadata": {},
   "outputs": [
    {
     "name": "stdout",
     "output_type": "stream",
     "text": [
      "Maximum number of words: 81\n",
      "Average number of words: 23.15\n"
     ]
    }
   ],
   "source": [
    "max_words = max(len(tokens) for tokens in data['tokenized_sent'])\n",
    "total_words = sum(len(data) for data in data['tokenized_sent'])\n",
    "average_words = total_words / len(X)\n",
    "\n",
    "print(\"Maximum number of words:\", max_words)\n",
    "print(f\"Average number of words: {average_words:.2f}\")\n"
   ]
  },
  {
   "cell_type": "markdown",
   "metadata": {},
   "source": [
    "## Custom Model:\n",
    "    1. Using Static Embeddings:"
   ]
  },
  {
   "cell_type": "markdown",
   "metadata": {},
   "source": [
    "#### Data Preprocessing:"
   ]
  },
  {
   "cell_type": "markdown",
   "metadata": {},
   "source": [
    "Label Encoding the target variable:"
   ]
  },
  {
   "cell_type": "code",
   "execution_count": 16,
   "metadata": {},
   "outputs": [],
   "source": [
    "label_encoder = LabelEncoder()\n",
    "y_enc = label_encoder.fit(y)\n",
    "y_enc = label_encoder.transform(y)"
   ]
  },
  {
   "cell_type": "code",
   "execution_count": 17,
   "metadata": {},
   "outputs": [
    {
     "data": {
      "text/plain": [
       "array([1, 1, 0, ..., 0, 0, 0])"
      ]
     },
     "execution_count": 17,
     "metadata": {},
     "output_type": "execute_result"
    }
   ],
   "source": [
    "y_enc"
   ]
  },
  {
   "cell_type": "markdown",
   "metadata": {},
   "source": [
    "Tokenizing and padding the sequences:"
   ]
  },
  {
   "cell_type": "code",
   "execution_count": 18,
   "metadata": {},
   "outputs": [],
   "source": [
    "max_words = 1000\n",
    "max_len = 55\n",
    "tokenizer = Tokenizer(num_words=max_words,oov_token='<OOV>')\n",
    "tokenizer.fit_on_texts(X)\n",
    "sequences = tokenizer.texts_to_sequences(X)\n",
    "padded_seq = pad_sequences(sequences,padding='post',maxlen=max_len,truncating='post')\n"
   ]
  },
  {
   "cell_type": "markdown",
   "metadata": {},
   "source": [
    "Splitting data into training and testing datasets:"
   ]
  },
  {
   "cell_type": "code",
   "execution_count": 19,
   "metadata": {},
   "outputs": [],
   "source": [
    "train_data,test_data,train_label,test_label = train_test_split(padded_seq,y_enc,stratify=y_enc,test_size=0.3,random_state=42)"
   ]
  },
  {
   "cell_type": "code",
   "execution_count": 20,
   "metadata": {},
   "outputs": [
    {
     "data": {
      "text/plain": [
       "((3392, 55), (3392,))"
      ]
     },
     "execution_count": 20,
     "metadata": {},
     "output_type": "execute_result"
    }
   ],
   "source": [
    "train_data.shape , train_label.shape"
   ]
  },
  {
   "cell_type": "markdown",
   "metadata": {},
   "source": [
    " Configuring the Early Stopping Strategy:"
   ]
  },
  {
   "cell_type": "code",
   "execution_count": 21,
   "metadata": {},
   "outputs": [],
   "source": [
    "\n",
    "early_stop = EarlyStopping(monitor='val_accuracy',patience=5)"
   ]
  },
  {
   "cell_type": "markdown",
   "metadata": {},
   "source": [
    "Setting Up the Sequential Model:"
   ]
  },
  {
   "cell_type": "code",
   "execution_count": 22,
   "metadata": {},
   "outputs": [
    {
     "name": "stdout",
     "output_type": "stream",
     "text": [
      "WARNING:tensorflow:From c:\\Users\\mehas\\anaconda\\envs\\tansformers_cpu\\lib\\site-packages\\keras\\src\\backend.py:873: The name tf.get_default_graph is deprecated. Please use tf.compat.v1.get_default_graph instead.\n",
      "\n"
     ]
    }
   ],
   "source": [
    "model = tf.keras.Sequential()"
   ]
  },
  {
   "cell_type": "code",
   "execution_count": 23,
   "metadata": {},
   "outputs": [],
   "source": [
    "model.add(layers.Embedding(input_dim=max_words,output_dim=64,input_length=max_len,mask_zero=True))\n",
    "# TransfromerEncoder:\n",
    "model.add(layers.LSTM(50))\n",
    "model.add(layers.Dropout(0.15))\n",
    "model.add(layers.Dense(25,activation='relu',kernel_regularizer=regularizers.l2(0.01)))\n",
    "model.add(layers.Dense(3,activation='softmax'))"
   ]
  },
  {
   "cell_type": "code",
   "execution_count": 24,
   "metadata": {},
   "outputs": [],
   "source": [
    "model.compile(optimizer=keras.optimizers.RMSprop(learning_rate=0.0002),loss='sparse_categorical_crossentropy',metrics=[\"accuracy\"])"
   ]
  },
  {
   "cell_type": "code",
   "execution_count": 25,
   "metadata": {},
   "outputs": [
    {
     "name": "stdout",
     "output_type": "stream",
     "text": [
      "Epoch 1/25\n",
      "WARNING:tensorflow:From c:\\Users\\mehas\\anaconda\\envs\\tansformers_cpu\\lib\\site-packages\\keras\\src\\utils\\tf_utils.py:492: The name tf.ragged.RaggedTensorValue is deprecated. Please use tf.compat.v1.ragged.RaggedTensorValue instead.\n",
      "\n",
      "WARNING:tensorflow:From c:\\Users\\mehas\\anaconda\\envs\\tansformers_cpu\\lib\\site-packages\\keras\\src\\engine\\base_layer_utils.py:384: The name tf.executing_eagerly_outside_functions is deprecated. Please use tf.compat.v1.executing_eagerly_outside_functions instead.\n",
      "\n",
      "109/109 [==============================] - 4s 18ms/step - loss: 1.3216 - accuracy: 0.5827 - val_loss: 1.1812 - val_accuracy: 0.6186\n",
      "Epoch 2/25\n",
      "109/109 [==============================] - 1s 12ms/step - loss: 1.1656 - accuracy: 0.5879 - val_loss: 1.0898 - val_accuracy: 0.6215\n",
      "Epoch 3/25\n",
      "109/109 [==============================] - 1s 11ms/step - loss: 1.0875 - accuracy: 0.6060 - val_loss: 1.0190 - val_accuracy: 0.6495\n",
      "Epoch 4/25\n",
      "109/109 [==============================] - 1s 11ms/step - loss: 1.0217 - accuracy: 0.6377 - val_loss: 0.9603 - val_accuracy: 0.6583\n",
      "Epoch 5/25\n",
      "109/109 [==============================] - 1s 11ms/step - loss: 0.9652 - accuracy: 0.6506 - val_loss: 0.9101 - val_accuracy: 0.6745\n",
      "Epoch 6/25\n",
      "109/109 [==============================] - 1s 12ms/step - loss: 0.9030 - accuracy: 0.6679 - val_loss: 0.8741 - val_accuracy: 0.6701\n",
      "Epoch 7/25\n",
      "109/109 [==============================] - 1s 12ms/step - loss: 0.8493 - accuracy: 0.6834 - val_loss: 0.8393 - val_accuracy: 0.6892\n",
      "Epoch 8/25\n",
      "109/109 [==============================] - 1s 14ms/step - loss: 0.8033 - accuracy: 0.6948 - val_loss: 0.8200 - val_accuracy: 0.6907\n",
      "Epoch 9/25\n",
      "109/109 [==============================] - 1s 12ms/step - loss: 0.7675 - accuracy: 0.7125 - val_loss: 0.8213 - val_accuracy: 0.6996\n",
      "Epoch 10/25\n",
      "109/109 [==============================] - 1s 12ms/step - loss: 0.7350 - accuracy: 0.7180 - val_loss: 0.7891 - val_accuracy: 0.6848\n",
      "Epoch 11/25\n",
      "109/109 [==============================] - 1s 13ms/step - loss: 0.7048 - accuracy: 0.7328 - val_loss: 0.7947 - val_accuracy: 0.6760\n",
      "Epoch 12/25\n",
      "109/109 [==============================] - 1s 13ms/step - loss: 0.6846 - accuracy: 0.7361 - val_loss: 0.7573 - val_accuracy: 0.6907\n",
      "Epoch 13/25\n",
      "109/109 [==============================] - 1s 13ms/step - loss: 0.6691 - accuracy: 0.7361 - val_loss: 0.7549 - val_accuracy: 0.6907\n",
      "Epoch 14/25\n",
      "109/109 [==============================] - 1s 12ms/step - loss: 0.6469 - accuracy: 0.7519 - val_loss: 0.7530 - val_accuracy: 0.7010\n",
      "Epoch 15/25\n",
      "109/109 [==============================] - 1s 13ms/step - loss: 0.6341 - accuracy: 0.7567 - val_loss: 0.7560 - val_accuracy: 0.6848\n",
      "Epoch 16/25\n",
      "109/109 [==============================] - 1s 13ms/step - loss: 0.6218 - accuracy: 0.7634 - val_loss: 0.7578 - val_accuracy: 0.6834\n",
      "Epoch 17/25\n",
      "109/109 [==============================] - 1s 12ms/step - loss: 0.6039 - accuracy: 0.7744 - val_loss: 0.7523 - val_accuracy: 0.7069\n",
      "Epoch 18/25\n",
      "109/109 [==============================] - 1s 13ms/step - loss: 0.5941 - accuracy: 0.7766 - val_loss: 0.7483 - val_accuracy: 0.7143\n",
      "Epoch 19/25\n",
      "109/109 [==============================] - 1s 12ms/step - loss: 0.5818 - accuracy: 0.7836 - val_loss: 0.7876 - val_accuracy: 0.7172\n",
      "Epoch 20/25\n",
      "109/109 [==============================] - 1s 12ms/step - loss: 0.5711 - accuracy: 0.7873 - val_loss: 0.7350 - val_accuracy: 0.7084\n",
      "Epoch 21/25\n",
      "109/109 [==============================] - 1s 13ms/step - loss: 0.5653 - accuracy: 0.7921 - val_loss: 0.7459 - val_accuracy: 0.7010\n",
      "Epoch 22/25\n",
      "109/109 [==============================] - 1s 13ms/step - loss: 0.5538 - accuracy: 0.7914 - val_loss: 0.7480 - val_accuracy: 0.7246\n",
      "Epoch 23/25\n",
      "109/109 [==============================] - 1s 13ms/step - loss: 0.5485 - accuracy: 0.8010 - val_loss: 0.7619 - val_accuracy: 0.7040\n",
      "Epoch 24/25\n",
      "109/109 [==============================] - 1s 13ms/step - loss: 0.5401 - accuracy: 0.8069 - val_loss: 0.7574 - val_accuracy: 0.7187\n",
      "Epoch 25/25\n",
      "109/109 [==============================] - 1s 13ms/step - loss: 0.5266 - accuracy: 0.8080 - val_loss: 0.7969 - val_accuracy: 0.6892\n"
     ]
    }
   ],
   "source": [
    "history1 = model.fit(train_data,train_label,epochs=25,validation_split=0.2,batch_size=25,callbacks=[early_stop])"
   ]
  },
  {
   "cell_type": "code",
   "execution_count": 26,
   "metadata": {},
   "outputs": [
    {
     "data": {
      "image/png": "[encoded data removed]",
      "text/plain": [
       "<Figure size 640x480 with 1 Axes>"
      ]
     },
     "metadata": {},
     "output_type": "display_data"
    },
    {
     "data": {
      "image/png": "[encoded data removed]",
      "text/plain": [
       "<Figure size 640x480 with 1 Axes>"
      ]
     },
     "metadata": {},
     "output_type": "display_data"
    }
   ],
   "source": [
    "acc = history1.history['accuracy']\n",
    "val_acc = history1.history['val_accuracy']\n",
    "loss = history1.history['loss']\n",
    "val_loss = history1.history['val_loss']\n",
    "\n",
    "epochs = range(1, len(acc) + 1)\n",
    "\n",
    "plt.plot(epochs, acc, 'bo', label='Training acc')\n",
    "plt.plot(epochs, val_acc, 'b', label='Validation acc')\n",
    "plt.title('Training and validation accuracy')\n",
    "plt.legend()\n",
    "\n",
    "plt.figure()\n",
    "\n",
    "plt.plot(epochs, loss, 'bo', label='Training loss')\n",
    "plt.plot(epochs, val_loss, 'b', label='Validation loss')\n",
    "plt.title('Training and validation loss')\n",
    "plt.legend()\n",
    "\n",
    "plt.show()"
   ]
  },
  {
   "cell_type": "markdown",
   "metadata": {},
   "source": [
    "Evaluating the model on testing dataset:"
   ]
  },
  {
   "cell_type": "code",
   "execution_count": 27,
   "metadata": {},
   "outputs": [
    {
     "name": "stdout",
     "output_type": "stream",
     "text": [
      "46/46 [==============================] - 0s 4ms/step - loss: 0.8911 - accuracy: 0.6623\n",
      "Accuracy:0.66\n"
     ]
    }
   ],
   "source": [
    "loss, customMod_acc = model.evaluate(test_data,test_label)\n",
    "print(f\"Accuracy:{customMod_acc:.2f}\")"
   ]
  },
  {
   "cell_type": "markdown",
   "metadata": {},
   "source": [
    "## Direct Inferencing DistilRoBerta and Evaluating on testing data set:"
   ]
  },
  {
   "cell_type": "code",
   "execution_count": 28,
   "metadata": {},
   "outputs": [],
   "source": [
    "from datasets import Dataset\n"
   ]
  },
  {
   "cell_type": "code",
   "execution_count": 29,
   "metadata": {},
   "outputs": [
    {
     "name": "stderr",
     "output_type": "stream",
     "text": [
      "Some weights of the PyTorch model were not used when initializing the TF 2.0 model TFRobertaForSequenceClassification: ['roberta.embeddings.position_ids']\n",
      "- This IS expected if you are initializing TFRobertaForSequenceClassification from a PyTorch model trained on another task or with another architecture (e.g. initializing a TFBertForSequenceClassification model from a BertForPreTraining model).\n",
      "- This IS NOT expected if you are initializing TFRobertaForSequenceClassification from a PyTorch model that you expect to be exactly identical (e.g. initializing a TFBertForSequenceClassification model from a BertForSequenceClassification model).\n",
      "All the weights of TFRobertaForSequenceClassification were initialized from the PyTorch model.\n",
      "If your task is similar to the task the model of the checkpoint was trained on, you can already use TFRobertaForSequenceClassification for predictions without further training.\n"
     ]
    }
   ],
   "source": [
    "checkpoint=\"mrm8488/distilroberta-finetuned-financial-news-sentiment-analysis\"\n",
    "tokenizer = AutoTokenizer.from_pretrained(checkpoint)\n",
    "model = TFAutoModelForSequenceClassification.from_pretrained(checkpoint,num_labels=3)"
   ]
  },
  {
   "cell_type": "code",
   "execution_count": 30,
   "metadata": {},
   "outputs": [],
   "source": [
    "encoder = LabelEncoder()\n",
    "data = pd.read_csv('all-data.csv',encoding = 'unicode_escape',names=['sentiments' ,'text'])\n",
    "data['labels'] = encoder.fit_transform(data['sentiments'])"
   ]
  },
  {
   "cell_type": "code",
   "execution_count": 31,
   "metadata": {},
   "outputs": [],
   "source": [
    "\n",
    "def tokenization_func(data):\n",
    "    return tokenizer(data['text'],truncation=True)"
   ]
  },
  {
   "cell_type": "code",
   "execution_count": 32,
   "metadata": {},
   "outputs": [],
   "source": [
    "data_collator = DataCollatorWithPadding(tokenizer=tokenizer, return_tensors=\"tf\")"
   ]
  },
  {
   "cell_type": "code",
   "execution_count": 33,
   "metadata": {},
   "outputs": [],
   "source": [
    "def stratified_split(data, random_state=42):\n",
    "        \n",
    "    training_data, remaining_data = train_test_split(data, test_size=0.5, random_state=random_state)\n",
    "    val_data, test_data = train_test_split(remaining_data, test_size=0.5, random_state=random_state)\n",
    "\n",
    "    train_dataset = Dataset.from_pandas(training_data)\n",
    "    val_dataset = Dataset.from_pandas(val_data)\n",
    "    test_dataset = Dataset.from_pandas(test_data)\n",
    "    return train_dataset, val_dataset, test_dataset"
   ]
  },
  {
   "cell_type": "code",
   "execution_count": 34,
   "metadata": {},
   "outputs": [],
   "source": [
    "train,val,test = stratified_split(data[['text','labels']])"
   ]
  },
  {
   "cell_type": "code",
   "execution_count": 35,
   "metadata": {},
   "outputs": [
    {
     "data": {
      "application/vnd.jupyter.widget-view+json": {
       "model_id": "edc851c6a10c44dbaf4ae248f9263d87",
       "version_major": 2,
       "version_minor": 0
      },
      "text/plain": [
       "Map:   0%|          | 0/2423 [00:00<?, ? examples/s]"
      ]
     },
     "metadata": {},
     "output_type": "display_data"
    },
    {
     "data": {
      "application/vnd.jupyter.widget-view+json": {
       "model_id": "f4ee6c1c99db47e7ae9382e724a62687",
       "version_major": 2,
       "version_minor": 0
      },
      "text/plain": [
       "Map:   0%|          | 0/1211 [00:00<?, ? examples/s]"
      ]
     },
     "metadata": {},
     "output_type": "display_data"
    },
    {
     "data": {
      "application/vnd.jupyter.widget-view+json": {
       "model_id": "04bf3e2fbd144a31a8da4c708c5f6f7b",
       "version_major": 2,
       "version_minor": 0
      },
      "text/plain": [
       "Map:   0%|          | 0/1212 [00:00<?, ? examples/s]"
      ]
     },
     "metadata": {},
     "output_type": "display_data"
    }
   ],
   "source": [
    "tokenized_train = train.map(tokenization_func,batched=True)\n",
    "tokenized_val = val.map(tokenization_func,batched=True)\n",
    "tokenized_test = test.map(tokenization_func,batched=True)"
   ]
  },
  {
   "cell_type": "code",
   "execution_count": 36,
   "metadata": {},
   "outputs": [
    {
     "name": "stderr",
     "output_type": "stream",
     "text": [
      "You're using a RobertaTokenizerFast tokenizer. Please note that with a fast tokenizer, using the `__call__` method is faster than using a method to encode the text followed by a call to the `pad` method to get a padded encoding.\n"
     ]
    }
   ],
   "source": [
    "tf_train_dataset = tokenized_train.to_tf_dataset(\n",
    "    columns=[\"attention_mask\", \"input_ids\"],\n",
    "    label_cols=[\"labels\"],\n",
    "    shuffle=True,\n",
    "    batch_size=25,\n",
    "    collate_fn=data_collator\n",
    "    )\n",
    "# token_type_ids\n",
    "tf_validation_dataset = tokenized_val.to_tf_dataset(\n",
    "    columns=[\"attention_mask\", \"input_ids\"],\n",
    "    label_cols=[\"labels\"],\n",
    "    shuffle=False,\n",
    "    batch_size=25,\n",
    "    collate_fn=data_collator\n",
    "    )\n",
    "tf_test_dataset = tokenized_test.to_tf_dataset(\n",
    "    columns=[\"attention_mask\", \"input_ids\"],\n",
    "    label_cols=[\"labels\"],\n",
    "    shuffle=False,\n",
    "    batch_size=25,\n",
    "    collate_fn=data_collator\n",
    "    )"
   ]
  },
  {
   "cell_type": "code",
   "execution_count": 37,
   "metadata": {},
   "outputs": [
    {
     "name": "stdout",
     "output_type": "stream",
     "text": [
      "WARNING:tensorflow:From c:\\Users\\mehas\\anaconda\\envs\\tansformers_cpu\\lib\\site-packages\\keras\\src\\optimizers\\__init__.py:309: The name tf.train.Optimizer is deprecated. Please use tf.compat.v1.train.Optimizer instead.\n",
      "\n"
     ]
    }
   ],
   "source": [
    "loss = tf.keras.losses.SparseCategoricalCrossentropy(from_logits=True)\n",
    "model.compile(optimizer='adam', loss=loss, metrics=[\"accuracy\"])"
   ]
  },
  {
   "cell_type": "code",
   "execution_count": 38,
   "metadata": {},
   "outputs": [
    {
     "name": "stdout",
     "output_type": "stream",
     "text": [
      "49/49 [==============================] - 19s 297ms/step - loss: 0.8546 - accuracy: 0.8672\n"
     ]
    }
   ],
   "source": [
    "_,Roberta_Acc = model.evaluate(tf_test_dataset)"
   ]
  },
  {
   "cell_type": "code",
   "execution_count": 39,
   "metadata": {},
   "outputs": [
    {
     "name": "stdout",
     "output_type": "stream",
     "text": [
      "Accuracy Yielded by Distil-Roberta : 0.87\n"
     ]
    }
   ],
   "source": [
    "print(f\"Accuracy Yielded by Distil-Roberta : {Roberta_Acc:.2f}\")"
   ]
  },
  {
   "cell_type": "markdown",
   "metadata": {},
   "source": [
    "## FineTuning & Inferencing Finbert:"
   ]
  },
  {
   "cell_type": "code",
   "execution_count": 40,
   "metadata": {},
   "outputs": [],
   "source": [
    "from transformers import AutoTokenizer, DataCollatorWithPadding, TFAutoModelForSequenceClassification\n",
    "import numpy as np\n",
    "from tensorflow.keras.losses import SparseCategoricalCrossentropy"
   ]
  },
  {
   "cell_type": "code",
   "execution_count": 41,
   "metadata": {},
   "outputs": [],
   "source": [
    "from sklearn.model_selection import train_test_split\n",
    "from sklearn.preprocessing import LabelEncoder\n",
    "import pandas as pd"
   ]
  },
  {
   "cell_type": "code",
   "execution_count": 42,
   "metadata": {},
   "outputs": [],
   "source": [
    "checkpoint=\"ProsusAI/finbert\""
   ]
  },
  {
   "cell_type": "code",
   "execution_count": 43,
   "metadata": {},
   "outputs": [
    {
     "name": "stderr",
     "output_type": "stream",
     "text": [
      "All model checkpoint layers were used when initializing TFBertForSequenceClassification.\n",
      "\n",
      "Some layers of TFBertForSequenceClassification were not initialized from the model checkpoint at ProsusAI/finbert and are newly initialized: ['classifier']\n",
      "You should probably TRAIN this model on a down-stream task to be able to use it for predictions and inference.\n"
     ]
    }
   ],
   "source": [
    "tokenizer = AutoTokenizer.from_pretrained(checkpoint)\n",
    "model = TFAutoModelForSequenceClassification.from_pretrained(checkpoint,num_labels=3)"
   ]
  },
  {
   "cell_type": "code",
   "execution_count": 44,
   "metadata": {},
   "outputs": [],
   "source": [
    "def tokenization_func(data):\n",
    "    return tokenizer(data['text'],truncation=True)"
   ]
  },
  {
   "cell_type": "code",
   "execution_count": 45,
   "metadata": {},
   "outputs": [
    {
     "data": {
      "application/vnd.jupyter.widget-view+json": {
       "model_id": "8e181a26e622477c9fc537f5515af679",
       "version_major": 2,
       "version_minor": 0
      },
      "text/plain": [
       "Map:   0%|          | 0/2423 [00:00<?, ? examples/s]"
      ]
     },
     "metadata": {},
     "output_type": "display_data"
    },
    {
     "data": {
      "application/vnd.jupyter.widget-view+json": {
       "model_id": "9ab79a41bbf94eff88d14b7a0a921b56",
       "version_major": 2,
       "version_minor": 0
      },
      "text/plain": [
       "Map:   0%|          | 0/1211 [00:00<?, ? examples/s]"
      ]
     },
     "metadata": {},
     "output_type": "display_data"
    },
    {
     "data": {
      "application/vnd.jupyter.widget-view+json": {
       "model_id": "b799550b5e2847659e028e8319466fd0",
       "version_major": 2,
       "version_minor": 0
      },
      "text/plain": [
       "Map:   0%|          | 0/1212 [00:00<?, ? examples/s]"
      ]
     },
     "metadata": {},
     "output_type": "display_data"
    }
   ],
   "source": [
    "tokenized_train = train.map(tokenization_func,batched=True)\n",
    "tokenized_val = val.map(tokenization_func,batched=True)\n",
    "tokenized_test = test.map(tokenization_func,batched=True)"
   ]
  },
  {
   "cell_type": "code",
   "execution_count": 46,
   "metadata": {},
   "outputs": [],
   "source": [
    "tf_train_dataset = tokenized_train.to_tf_dataset(\n",
    "    columns=[\"attention_mask\", \"input_ids\"],\n",
    "    label_cols=[\"labels\"],\n",
    "    shuffle=True,\n",
    "    batch_size=25,\n",
    "    collate_fn=data_collator\n",
    "    )\n",
    "# token_type_ids\n",
    "tf_validation_dataset = tokenized_val.to_tf_dataset(\n",
    "    columns=[\"attention_mask\", \"input_ids\"],\n",
    "    label_cols=[\"labels\"],\n",
    "    shuffle=False,\n",
    "    batch_size=25,\n",
    "    collate_fn=data_collator\n",
    "    )\n",
    "tf_test_dataset = tokenized_test.to_tf_dataset(\n",
    "    columns=[\"attention_mask\", \"input_ids\"],\n",
    "    label_cols=[\"labels\"],\n",
    "    shuffle=False,\n",
    "    batch_size=25,\n",
    "    collate_fn=data_collator\n",
    "    )"
   ]
  },
  {
   "cell_type": "code",
   "execution_count": 47,
   "metadata": {},
   "outputs": [],
   "source": [
    "model.compile(\n",
    "    optimizer=keras.optimizers.Adam(learning_rate=1e-5),\n",
    "    loss=SparseCategoricalCrossentropy(from_logits=True),\n",
    "    metrics=[\"accuracy\"],\n",
    ")"
   ]
  },
  {
   "cell_type": "code",
   "execution_count": 48,
   "metadata": {},
   "outputs": [
    {
     "name": "stdout",
     "output_type": "stream",
     "text": [
      "49/49 [==============================] - 34s 601ms/step - loss: 0.8795 - accuracy: 0.8870\n"
     ]
    }
   ],
   "source": [
    "_,finbert_acc = model.evaluate(tf_test_dataset)"
   ]
  },
  {
   "cell_type": "code",
   "execution_count": 49,
   "metadata": {},
   "outputs": [
    {
     "name": "stdout",
     "output_type": "stream",
     "text": [
      "Epoch 1/5\n",
      "97/97 [==============================] - 288s 3s/step - loss: 0.5018 - accuracy: 0.8803 - val_loss: 0.3382 - val_accuracy: 0.8927\n",
      "Epoch 2/5\n",
      "97/97 [==============================] - 274s 3s/step - loss: 0.2365 - accuracy: 0.9356 - val_loss: 0.2961 - val_accuracy: 0.8935\n",
      "Epoch 3/5\n",
      "97/97 [==============================] - 271s 3s/step - loss: 0.1278 - accuracy: 0.9674 - val_loss: 0.3057 - val_accuracy: 0.8893\n",
      "Epoch 4/5\n",
      "97/97 [==============================] - 275s 3s/step - loss: 0.0741 - accuracy: 0.9827 - val_loss: 0.3580 - val_accuracy: 0.8885\n",
      "Epoch 5/5\n",
      "97/97 [==============================] - 264s 3s/step - loss: 0.0414 - accuracy: 0.9930 - val_loss: 0.3738 - val_accuracy: 0.8885\n"
     ]
    }
   ],
   "source": [
    "history2 = model.fit(\n",
    "    tf_train_dataset,\n",
    "    validation_data=tf_validation_dataset,\n",
    "    batch_size = 4,\n",
    "    epochs=5\n",
    "    )"
   ]
  },
  {
   "cell_type": "code",
   "execution_count": 50,
   "metadata": {},
   "outputs": [
    {
     "data": {
      "image/png": "[encoded data removed]",
      "text/plain": [
       "<Figure size 640x480 with 1 Axes>"
      ]
     },
     "metadata": {},
     "output_type": "display_data"
    },
    {
     "data": {
      "image/png": "[encoded data removed]",
      "text/plain": [
       "<Figure size 640x480 with 1 Axes>"
      ]
     },
     "metadata": {},
     "output_type": "display_data"
    }
   ],
   "source": [
    "acc = history2.history['accuracy']\n",
    "val_acc = history2.history['val_accuracy']\n",
    "loss = history2.history['loss']\n",
    "val_loss = history2.history['val_loss']\n",
    "\n",
    "epochs = range(1, len(acc) + 1)\n",
    "\n",
    "plt.plot(epochs, acc, 'bo', label='Training acc')\n",
    "plt.plot(epochs, val_acc, 'b', label='Validation acc')\n",
    "plt.title('Training and validation accuracy')\n",
    "plt.legend()\n",
    "\n",
    "plt.figure()\n",
    "\n",
    "plt.plot(epochs, loss, 'bo', label='Training loss')\n",
    "plt.plot(epochs, val_loss, 'b', label='Validation loss')\n",
    "plt.title('Training and validation loss')\n",
    "plt.legend()\n",
    "\n",
    "plt.show()"
   ]
  },
  {
   "cell_type": "code",
   "execution_count": 51,
   "metadata": {},
   "outputs": [
    {
     "name": "stdout",
     "output_type": "stream",
     "text": [
      "49/49 [==============================] - 28s 575ms/step - loss: 0.3616 - accuracy: 0.8919\n"
     ]
    }
   ],
   "source": [
    "_ , finetuned_accuracy = model.evaluate(tf_test_dataset)"
   ]
  },
  {
   "cell_type": "code",
   "execution_count": 52,
   "metadata": {},
   "outputs": [
    {
     "name": "stdout",
     "output_type": "stream",
     "text": [
      "49/49 [==============================] - 30s 582ms/step\n"
     ]
    }
   ],
   "source": [
    "pred=model.predict(tf_test_dataset)[\"logits\"]"
   ]
  },
  {
   "cell_type": "code",
   "execution_count": 53,
   "metadata": {},
   "outputs": [
    {
     "name": "stdout",
     "output_type": "stream",
     "text": [
      "(1212, 3) (1212,)\n"
     ]
    }
   ],
   "source": [
    "class_preds = np.argmax(pred, axis=1)\n",
    "print(pred.shape, class_preds.shape)"
   ]
  },
  {
   "cell_type": "code",
   "execution_count": 54,
   "metadata": {},
   "outputs": [
    {
     "name": "stdout",
     "output_type": "stream",
     "text": [
      "              precision    recall  f1-score   support\n",
      "\n",
      "           0       0.83      0.95      0.88       140\n",
      "           1       0.92      0.91      0.92       716\n",
      "           2       0.87      0.83      0.85       356\n",
      "\n",
      "    accuracy                           0.89      1212\n",
      "   macro avg       0.87      0.90      0.88      1212\n",
      "weighted avg       0.89      0.89      0.89      1212\n",
      "\n"
     ]
    }
   ],
   "source": [
    "print(classification_report(tokenized_test['labels'],class_preds))"
   ]
  },
  {
   "cell_type": "code",
   "execution_count": 56,
   "metadata": {},
   "outputs": [
    {
     "data": {
      "text/plain": [
       "{0: 'positive', 1: 'negative', 2: 'neutral'}"
      ]
     },
     "execution_count": 56,
     "metadata": {},
     "output_type": "execute_result"
    }
   ],
   "source": [
    "# tf.math.softmax(pred.logits,axis=-1)\n",
    "model.config.id2label"
   ]
  },
  {
   "cell_type": "code",
   "execution_count": 57,
   "metadata": {},
   "outputs": [],
   "source": [
    "comparative_analysis = pd.DataFrame({\n",
    "    \"custom_built\":[customMod_acc],\n",
    "    \"RoBerta\":[Roberta_Acc],\n",
    "    \"Finbert\":[finbert_acc],\n",
    "    \"fineTuned_finbert\":[finetuned_accuracy]\n",
    "})"
   ]
  },
  {
   "cell_type": "code",
   "execution_count": 58,
   "metadata": {},
   "outputs": [],
   "source": [
    "comparative_analysis = comparative_analysis.T.reset_index()\n",
    "comparative_analysis.columns = ['Model', 'Accuracy']"
   ]
  },
  {
   "cell_type": "code",
   "execution_count": 59,
   "metadata": {},
   "outputs": [
    {
     "data": {
      "image/png": "[encoded data removed]",
      "text/plain": [
       "<Figure size 1000x600 with 1 Axes>"
      ]
     },
     "metadata": {},
     "output_type": "display_data"
    }
   ],
   "source": [
    "sns.set(style=\"whitegrid\")\n",
    "plt.figure(figsize=(10, 6))\n",
    "barplot = sns.barplot(x='Model', y='Accuracy', data=comparative_analysis, palette=\"viridis\")\n",
    "for p in barplot.patches:\n",
    "    barplot.annotate(f'{p.get_height():.2f}', (p.get_x() + p.get_width() / 2., p.get_height()),\n",
    "                     ha='center', va='center', xytext=(0, 10), textcoords='offset points')\n",
    "\n",
    "plt.title('Model Accuracy Comparison')\n",
    "plt.xlabel('Model')\n",
    "plt.ylabel('Accuracy')\n",
    "plt.show()"
   ]
  },
  {
   "cell_type": "markdown",
   "metadata": {},
   "source": [
    "R"
   ]
  },
  {
   "cell_type": "code",
   "execution_count": 60,
   "metadata": {},
   "outputs": [
    {
     "name": "stderr",
     "output_type": "stream",
     "text": [
      "Cloning https://huggingface.co/mehassan/finbert-finetuned into local empty directory.\n"
     ]
    }
   ],
   "source": [
    "callback = PushToHubCallback(\n",
    "    \"finbert-finetuned\", save_strategy=\"epoch\", tokenizer=tokenizer\n",
    ")"
   ]
  },
  {
   "cell_type": "code",
   "execution_count": 61,
   "metadata": {},
   "outputs": [
    {
     "name": "stderr",
     "output_type": "stream",
     "text": [
      "All model checkpoint layers were used when initializing TFBertForSequenceClassification.\n",
      "\n",
      "Some layers of TFBertForSequenceClassification were not initialized from the model checkpoint at ProsusAI/finbert and are newly initialized: ['classifier']\n",
      "You should probably TRAIN this model on a down-stream task to be able to use it for predictions and inference.\n"
     ]
    },
    {
     "data": {
      "application/vnd.jupyter.widget-view+json": {
       "model_id": "2b71817bf87947cab7d789bed8f7ba93",
       "version_major": 2,
       "version_minor": 0
      },
      "text/plain": [
       "Map:   0%|          | 0/906 [00:00<?, ? examples/s]"
      ]
     },
     "metadata": {},
     "output_type": "display_data"
    },
    {
     "data": {
      "application/vnd.jupyter.widget-view+json": {
       "model_id": "0fac980c93034db9ab927f9b1ead120a",
       "version_major": 2,
       "version_minor": 0
      },
      "text/plain": [
       "Map:   0%|          | 0/453 [00:00<?, ? examples/s]"
      ]
     },
     "metadata": {},
     "output_type": "display_data"
    },
    {
     "data": {
      "application/vnd.jupyter.widget-view+json": {
       "model_id": "0c7435e3a28746f0af91db9c0c87e200",
       "version_major": 2,
       "version_minor": 0
      },
      "text/plain": [
       "Map:   0%|          | 0/453 [00:00<?, ? examples/s]"
      ]
     },
     "metadata": {},
     "output_type": "display_data"
    },
    {
     "name": "stderr",
     "output_type": "stream",
     "text": [
      "You're using a BertTokenizerFast tokenizer. Please note that with a fast tokenizer, using the `__call__` method is faster than using a method to encode the text followed by a call to the `pad` method to get a padded encoding.\n"
     ]
    },
    {
     "name": "stdout",
     "output_type": "stream",
     "text": [
      "19/19 [==============================] - 14s 565ms/step - loss: 1.0923 - accuracy: 0.3223\n",
      "Epoch 1/5\n",
      "37/37 [==============================] - 126s 3s/step - loss: 0.7467 - accuracy: 0.7594 - val_loss: 0.4961 - val_accuracy: 0.9227\n",
      "Epoch 2/5\n",
      "37/37 [==============================] - 118s 3s/step - loss: 0.3946 - accuracy: 0.9415 - val_loss: 0.3161 - val_accuracy: 0.9272\n",
      "Epoch 3/5\n",
      "37/37 [==============================] - 117s 3s/step - loss: 0.2334 - accuracy: 0.9592 - val_loss: 0.2575 - val_accuracy: 0.9227\n",
      "Epoch 4/5\n",
      "37/37 [==============================] - 118s 3s/step - loss: 0.1492 - accuracy: 0.9790 - val_loss: 0.2467 - val_accuracy: 0.9205\n",
      "Epoch 5/5\n",
      "37/37 [==============================] - 114s 3s/step - loss: 0.1011 - accuracy: 0.9890 - val_loss: 0.2448 - val_accuracy: 0.9205\n"
     ]
    }
   ],
   "source": [
    "data = pd.read_csv('all-data.csv',encoding = 'unicode_escape',names=['sentiments' ,'text'])\n",
    "d1 = data[data[\"sentiments\"]==\"neutral\"][:604]\n",
    "d2 = data[data[\"sentiments\"]==\"positive\"][:604]\n",
    "d3 = data[data[\"sentiments\"]==\"negative\"]\n",
    "data = pd.concat([d1,d2,d3]).reset_index(drop=True)\n",
    "data['labels'] = encoder.fit_transform(data['sentiments'])\n",
    "\n",
    "\n",
    "checkpoint=\"ProsusAI/finbert\"\n",
    "tokenizer = AutoTokenizer.from_pretrained(checkpoint)\n",
    "model = TFAutoModelForSequenceClassification.from_pretrained(checkpoint,num_labels=3)\n",
    "\n",
    "def tokenization_func(data):\n",
    "    return tokenizer(data['text'],truncation=True)\n",
    "\n",
    "def tokenization_func(data):\n",
    "    return tokenizer(data['text'],truncation=True)\n",
    "data_collator = DataCollatorWithPadding(tokenizer=tokenizer, return_tensors=\"tf\")\n",
    "def stratified_split(data, random_state=42):\n",
    "        \n",
    "    training_data, remaining_data = train_test_split(data, test_size=0.5, random_state=random_state)\n",
    "    val_data, test_data = train_test_split(remaining_data, test_size=0.5, random_state=random_state)\n",
    "\n",
    "    train_dataset = Dataset.from_pandas(training_data)\n",
    "    val_dataset = Dataset.from_pandas(val_data)\n",
    "    test_dataset = Dataset.from_pandas(test_data)\n",
    "    return train_dataset, val_dataset, test_dataset\n",
    "train,val,test = stratified_split(data[['text','labels']])\n",
    "tokenized_train = train.map(tokenization_func,batched=True)\n",
    "tokenized_val = val.map(tokenization_func,batched=True)\n",
    "tokenized_test = test.map(tokenization_func,batched=True)\n",
    "tf_train_dataset = tokenized_train.to_tf_dataset(\n",
    "    columns=[\"attention_mask\", \"input_ids\"],\n",
    "    label_cols=[\"labels\"],\n",
    "    shuffle=True,\n",
    "    batch_size=25,\n",
    "    collate_fn=data_collator\n",
    "    )\n",
    "# token_type_ids\n",
    "tf_validation_dataset = tokenized_val.to_tf_dataset(\n",
    "    columns=[\"attention_mask\", \"input_ids\"],\n",
    "    label_cols=[\"labels\"],\n",
    "    shuffle=False,\n",
    "    batch_size=25,\n",
    "    collate_fn=data_collator\n",
    "    )\n",
    "tf_test_dataset = tokenized_test.to_tf_dataset(\n",
    "    columns=[\"attention_mask\", \"input_ids\"],\n",
    "    label_cols=[\"labels\"],\n",
    "    shuffle=False,\n",
    "    batch_size=25,\n",
    "    collate_fn=data_collator\n",
    "    )\n",
    "model.compile(\n",
    "    optimizer=keras.optimizers.Adam(learning_rate=1e-5),\n",
    "    loss=SparseCategoricalCrossentropy(from_logits=True),\n",
    "    metrics=[\"accuracy\"],\n",
    ")\n",
    "_,finbert_acc = model.evaluate(tf_test_dataset)\n",
    "history2 = model.fit(\n",
    "    tf_train_dataset,\n",
    "    validation_data=tf_validation_dataset,\n",
    "    batch_size = 4,\n",
    "    epochs=5,\n",
    "    callbacks=[callback]\n",
    "    )"
   ]
  },
  {
   "cell_type": "code",
   "execution_count": 62,
   "metadata": {},
   "outputs": [
    {
     "data": {
      "image/png": "[encoded data removed]",
      "text/plain": [
       "<Figure size 640x480 with 1 Axes>"
      ]
     },
     "metadata": {},
     "output_type": "display_data"
    },
    {
     "data": {
      "image/png": "[encoded data removed]",
      "text/plain": [
       "<Figure size 640x480 with 1 Axes>"
      ]
     },
     "metadata": {},
     "output_type": "display_data"
    }
   ],
   "source": [
    "acc = history2.history['accuracy']\n",
    "val_acc = history2.history['val_accuracy']\n",
    "loss = history2.history['loss']\n",
    "val_loss = history2.history['val_loss']\n",
    "\n",
    "epochs = range(1, len(acc) + 1)\n",
    "\n",
    "plt.plot(epochs, acc, 'bo', label='Training acc')\n",
    "plt.plot(epochs, val_acc, 'b', label='Validation acc')\n",
    "plt.title('Training and validation accuracy')\n",
    "plt.legend()\n",
    "\n",
    "plt.figure()\n",
    "\n",
    "plt.plot(epochs, loss, 'bo', label='Training loss')\n",
    "plt.plot(epochs, val_loss, 'b', label='Validation loss')\n",
    "plt.title('Training and validation loss')\n",
    "plt.legend()\n",
    "\n",
    "plt.show()"
   ]
  },
  {
   "cell_type": "code",
   "execution_count": 63,
   "metadata": {},
   "outputs": [
    {
     "name": "stdout",
     "output_type": "stream",
     "text": [
      "19/19 [==============================] - 11s 559ms/step - loss: 0.2475 - accuracy: 0.9316\n",
      "19/19 [==============================] - 13s 585ms/step\n"
     ]
    }
   ],
   "source": [
    "_ , finetuned_accuracy = model.evaluate(tf_test_dataset)\n",
    "pred=model.predict(tf_test_dataset)[\"logits\"]"
   ]
  },
  {
   "cell_type": "code",
   "execution_count": 64,
   "metadata": {},
   "outputs": [
    {
     "name": "stdout",
     "output_type": "stream",
     "text": [
      "(453, 3) (453,)\n",
      "              precision    recall  f1-score   support\n",
      "\n",
      "           0       0.95      0.99      0.97       149\n",
      "           1       0.98      0.85      0.91       165\n",
      "           2       0.86      0.96      0.91       139\n",
      "\n",
      "    accuracy                           0.93       453\n",
      "   macro avg       0.93      0.93      0.93       453\n",
      "weighted avg       0.94      0.93      0.93       453\n",
      "\n"
     ]
    }
   ],
   "source": [
    "class_preds = np.argmax(pred, axis=1)\n",
    "print(pred.shape, class_preds.shape)\n",
    "print(classification_report(tokenized_test['labels'],class_preds))"
   ]
  },
  {
   "cell_type": "code",
   "execution_count": 65,
   "metadata": {},
   "outputs": [],
   "source": [
    "model.save_pretrained('./finbert_finetuned_balance')"
   ]
  },
  {
   "cell_type": "code",
   "execution_count": null,
   "metadata": {},
   "outputs": [],
   "source": []
  }
 ],
 "metadata": {
  "kernelspec": {
   "display_name": "tensorflow",
   "language": "python",
   "name": "python3"
  },
  "language_info": {
   "codemirror_mode": {
    "name": "ipython",
    "version": 3
   },
   "file_extension": ".py",
   "mimetype": "text/x-python",
   "name": "python",
   "nbconvert_exporter": "python",
   "pygments_lexer": "ipython3",
   "version": "3.10.13"
  }
 },
 "nbformat": 4,
 "nbformat_minor": 2
}
